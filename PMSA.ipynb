{
 "cells": [
  {
   "cell_type": "code",
   "execution_count": 1,
   "id": "77e23bd7",
   "metadata": {},
   "outputs": [],
   "source": [
    "import random\n",
    "import networkx as nx\n",
    "from time import *\n",
    "from networkx.algorithms import all_shortest_paths"
   ]
  },
  {
   "cell_type": "code",
   "execution_count": 2,
   "id": "536a7e60",
   "metadata": {},
   "outputs": [],
   "source": [
    "def all_CloseSeparator(g_C,a,b):\n",
    "    N_A = set(g_C.adj[a])\n",
    "    N_V_C = set()\n",
    "    V_remove_N_A = set(g_C.nodes) - N_A\n",
    "    M_c = list(nx.connected_components(nx.subgraph(g_C, V_remove_N_A)))\n",
    "    for i in range(0,len(M_c)):\n",
    "        if b in M_c[i]:            \n",
    "            for j in M_c[i]:\n",
    "                N_V_C = N_V_C | set(g_C.adj[j])\n",
    "            N_V_C = N_V_C - M_c[i]\n",
    "            break\n",
    "    return N_V_C\n",
    "def PMSAA(r, g): \n",
    "    s = 1 \n",
    "    h_ms=set(r)\n",
    "    while s == 1:\n",
    "        s = 0\n",
    "        M = set(g.nodes)-h_ms\n",
    "        M_c=list(nx.connected_components(nx.subgraph(g, M)))\n",
    "        for i in range(0,len(M_c)):\n",
    "            Cap_1 = set()\n",
    "            set_ = set()\n",
    "            Cap_1 = Cap_1 | M_c[i]\n",
    "            for j in list(M_c[i]):\n",
    "                set_ = (set_ | set(g.adj[j]))\n",
    "            set_ = ((set_ - M_c[i]) & h_ms)           \n",
    "            if len(set_)>1:\n",
    "                for a in set_.copy():\n",
    "                    set_.remove(a)\n",
    "                    for b in set_:\n",
    "                        if b not in g.adj[a]:\n",
    "                            Cap_1 = Cap_1 | {a,b}\n",
    "                            G_Cap_1=nx.subgraph(g, Cap_1)\n",
    "                            Min_close_a = all_CloseSeparator(G_Cap_1,a,b)\n",
    "                            Min_close_b = all_CloseSeparator(G_Cap_1,b,a)\n",
    "                            h_ms = (h_ms | (Min_close_a|Min_close_b))\n",
    "                            s = 1\n",
    "                            break\n",
    "                    else:\n",
    "                        continue\n",
    "                    break \n",
    "    return h_ms"
   ]
  },
  {
   "cell_type": "code",
   "execution_count": 3,
   "id": "293b55fc",
   "metadata": {},
   "outputs": [],
   "source": [
    "G= nx.random_graphs.fast_gnp_random_graph(2000,  0.005,  seed=None, directed=False)\n",
    "R = random.sample(list(G.nodes), 10)\n",
    "H_MS = PMSAA(R, G)"
   ]
  }
 ],
 "metadata": {
  "kernelspec": {
   "display_name": "Python 3 (ipykernel)",
   "language": "python",
   "name": "python3"
  },
  "language_info": {
   "codemirror_mode": {
    "name": "ipython",
    "version": 3
   },
   "file_extension": ".py",
   "mimetype": "text/x-python",
   "name": "python",
   "nbconvert_exporter": "python",
   "pygments_lexer": "ipython3",
   "version": "3.9.12"
  }
 },
 "nbformat": 4,
 "nbformat_minor": 5
}
